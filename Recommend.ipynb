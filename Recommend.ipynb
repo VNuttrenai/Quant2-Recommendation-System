{
 "cells": [
  {
   "cell_type": "code",
   "execution_count": 1,
   "id": "4228c9b1-15bb-482d-85a3-3b6693f65faf",
   "metadata": {},
   "outputs": [],
   "source": [
    "import pandas as pd"
   ]
  },
  {
   "cell_type": "code",
   "execution_count": 2,
   "id": "d1feba2b-457c-49c8-8b08-70b4e6ec28d0",
   "metadata": {},
   "outputs": [],
   "source": [
    "ratings = pd.read_csv('rating1.csv')\n",
    "movies = pd.read_csv('movie1.csv')"
   ]
  },
  {
   "cell_type": "code",
   "execution_count": 3,
   "id": "27597cde-0b61-4ac5-958a-090189ee5ba2",
   "metadata": {},
   "outputs": [
    {
     "name": "stdout",
     "output_type": "stream",
     "text": [
      "Ratings Data:\n",
      "   userId  movieId  rating   timestamp\n",
      "0       1        2     3.5  02-04-2005\n",
      "1       1       29     3.5  02-04-2005\n",
      "2       1       32     3.5  02-04-2005\n",
      "3       1       47     3.5  02-04-2005\n",
      "4       1       50     3.5  02-04-2005\n",
      "\n",
      "Movies Data:\n",
      "   movieId                               title  \\\n",
      "0        1                    Toy Story (1995)   \n",
      "1        2                      Jumanji (1995)   \n",
      "2        3             Grumpier Old Men (1995)   \n",
      "3        4            Waiting to Exhale (1995)   \n",
      "4        5  Father of the Bride Part II (1995)   \n",
      "\n",
      "                                        genres  \n",
      "0  Adventure|Animation|Children|Comedy|Fantasy  \n",
      "1                   Adventure|Children|Fantasy  \n",
      "2                               Comedy|Romance  \n",
      "3                         Comedy|Drama|Romance  \n",
      "4                                       Comedy  \n"
     ]
    }
   ],
   "source": [
    "print(\"Ratings Data:\")\n",
    "print(ratings.head())\n",
    "print(\"\\nMovies Data:\")\n",
    "print(movies.head())"
   ]
  },
  {
   "cell_type": "code",
   "execution_count": 4,
   "id": "e6e4fc61-c34d-4c6e-8af4-78fda87ed82d",
   "metadata": {},
   "outputs": [
    {
     "name": "stdout",
     "output_type": "stream",
     "text": [
      "\n",
      "Missing values in ratings:\n",
      "userId       0\n",
      "movieId      0\n",
      "rating       0\n",
      "timestamp    0\n",
      "dtype: int64\n",
      "\n",
      "Missing values in movies:\n",
      "movieId    0\n",
      "title      0\n",
      "genres     0\n",
      "dtype: int64\n"
     ]
    }
   ],
   "source": [
    "print(\"\\nMissing values in ratings:\")\n",
    "print(ratings.isnull().sum())\n",
    "print(\"\\nMissing values in movies:\")\n",
    "print(movies.isnull().sum())"
   ]
  },
  {
   "cell_type": "code",
   "execution_count": 5,
   "id": "decdd1d2-8272-4ee0-bccf-7d92277a4933",
   "metadata": {},
   "outputs": [
    {
     "data": {
      "text/plain": [
       "(1048575, 4)"
      ]
     },
     "execution_count": 5,
     "metadata": {},
     "output_type": "execute_result"
    }
   ],
   "source": [
    "ratings.shape"
   ]
  },
  {
   "cell_type": "code",
   "execution_count": 6,
   "id": "ae0fe79c-9966-4d51-b033-21a8033f16bf",
   "metadata": {},
   "outputs": [
    {
     "data": {
      "text/plain": [
       "(27278, 3)"
      ]
     },
     "execution_count": 6,
     "metadata": {},
     "output_type": "execute_result"
    }
   ],
   "source": [
    "movies.shape"
   ]
  },
  {
   "cell_type": "code",
   "execution_count": 7,
   "id": "4a730a18-e7c0-443f-87c4-ab5e84be2137",
   "metadata": {},
   "outputs": [
    {
     "name": "stdout",
     "output_type": "stream",
     "text": [
      "<class 'pandas.core.frame.DataFrame'>\n",
      "RangeIndex: 1048575 entries, 0 to 1048574\n",
      "Data columns (total 4 columns):\n",
      " #   Column     Non-Null Count    Dtype  \n",
      "---  ------     --------------    -----  \n",
      " 0   userId     1048575 non-null  int64  \n",
      " 1   movieId    1048575 non-null  int64  \n",
      " 2   rating     1048575 non-null  float64\n",
      " 3   timestamp  1048575 non-null  object \n",
      "dtypes: float64(1), int64(2), object(1)\n",
      "memory usage: 32.0+ MB\n"
     ]
    }
   ],
   "source": [
    "ratings.info()"
   ]
  },
  {
   "cell_type": "code",
   "execution_count": 8,
   "id": "a6daa1bb-6af1-4194-b09a-7cb5f85561cd",
   "metadata": {},
   "outputs": [
    {
     "name": "stdout",
     "output_type": "stream",
     "text": [
      "<class 'pandas.core.frame.DataFrame'>\n",
      "RangeIndex: 27278 entries, 0 to 27277\n",
      "Data columns (total 3 columns):\n",
      " #   Column   Non-Null Count  Dtype \n",
      "---  ------   --------------  ----- \n",
      " 0   movieId  27278 non-null  int64 \n",
      " 1   title    27278 non-null  object\n",
      " 2   genres   27278 non-null  object\n",
      "dtypes: int64(1), object(2)\n",
      "memory usage: 639.5+ KB\n"
     ]
    }
   ],
   "source": [
    "movies.info()"
   ]
  },
  {
   "cell_type": "code",
   "execution_count": 9,
   "id": "497278bc-3bff-4925-a272-10da6028dd66",
   "metadata": {},
   "outputs": [
    {
     "name": "stdout",
     "output_type": "stream",
     "text": [
      "userId\n",
      "3907    2711\n",
      "2261    2644\n",
      "903     2608\n",
      "4358    2575\n",
      "4222    2553\n",
      "        ... \n",
      "4058      20\n",
      "4086      20\n",
      "4092      20\n",
      "4148      20\n",
      "7120      20\n",
      "Name: count, Length: 7120, dtype: int64\n",
      "********************\n",
      "movieId\n",
      "296      3498\n",
      "356      3476\n",
      "593      3247\n",
      "318      3216\n",
      "480      3129\n",
      "         ... \n",
      "5978        1\n",
      "5918        1\n",
      "5807        1\n",
      "8660        1\n",
      "65651       1\n",
      "Name: count, Length: 14026, dtype: int64\n",
      "********************\n",
      "rating\n",
      "4.0    295135\n",
      "3.0    226202\n",
      "5.0    152562\n",
      "3.5    112926\n",
      "4.5     79848\n",
      "2.0     74706\n",
      "2.5     44791\n",
      "1.0     35144\n",
      "1.5     14029\n",
      "0.5     13232\n",
      "Name: count, dtype: int64\n",
      "********************\n",
      "timestamp\n",
      "20-11-2000    5369\n",
      "23-03-2005    4070\n",
      "11-12-1999    3759\n",
      "22-03-2005    3174\n",
      "21-11-2000    3056\n",
      "              ... \n",
      "10-10-1997       1\n",
      "30-12-1997       1\n",
      "19-06-2014       1\n",
      "25-02-2000       1\n",
      "25-10-1997       1\n",
      "Name: count, Length: 6580, dtype: int64\n",
      "********************\n"
     ]
    }
   ],
   "source": [
    "for column in ratings.columns:\n",
    "    print(ratings[column].value_counts())\n",
    "    print(\"*\"*20)"
   ]
  },
  {
   "cell_type": "code",
   "execution_count": 10,
   "id": "90c39772-4ed0-4202-a39d-0305b7ce8a8d",
   "metadata": {},
   "outputs": [
    {
     "name": "stdout",
     "output_type": "stream",
     "text": [
      "movieId\n",
      "1         1\n",
      "91044     1\n",
      "91035     1\n",
      "91031     1\n",
      "91028     1\n",
      "         ..\n",
      "26853     1\n",
      "26851     1\n",
      "26850     1\n",
      "26849     1\n",
      "131262    1\n",
      "Name: count, Length: 27278, dtype: int64\n",
      "********************\n",
      "title\n",
      "Aladdin (1992)                                                    2\n",
      "Johnny Express (2014)                                             2\n",
      "Chaos (2005)                                                      2\n",
      "Hamlet (2000)                                                     2\n",
      "20,000 Leagues Under the Sea (1997)                               2\n",
      "                                                                 ..\n",
      "Tai Chi Master (Twin Warriors) (Tai ji: Zhang San Feng) (1993)    1\n",
      "Splitting Heirs (1993)                                            1\n",
      "Sonatine (Sonachine) (1993)                                       1\n",
      "Snapper, The (1993)                                               1\n",
      "Innocence (2014)                                                  1\n",
      "Name: count, Length: 27262, dtype: int64\n",
      "********************\n",
      "genres\n",
      "Drama                                                  4520\n",
      "Comedy                                                 2294\n",
      "Documentary                                            1942\n",
      "Comedy|Drama                                           1264\n",
      "Drama|Romance                                          1075\n",
      "                                                       ... \n",
      "Action|Comedy|Crime|Western                               1\n",
      "Action|Fantasy|Sci-Fi|Thriller                            1\n",
      "Action|Drama|Fantasy|Horror|Mystery|Sci-Fi|Thriller       1\n",
      "Action|Drama|Fantasy|Romance                              1\n",
      "Animation|Children|Comedy|Western                         1\n",
      "Name: count, Length: 1342, dtype: int64\n",
      "********************\n"
     ]
    }
   ],
   "source": [
    "for column in movies.columns:\n",
    "    print(movies[column].value_counts())\n",
    "    print(\"*\"*20)"
   ]
  },
  {
   "cell_type": "code",
   "execution_count": 11,
   "id": "675e635f-a3a4-4d90-aff5-568068cd0369",
   "metadata": {},
   "outputs": [],
   "source": [
    "# Filter out unrealistic ratings (ratings should be between 0.5 and 5.0)\n",
    "ratings = ratings[(ratings['rating'] >= 0.5) & (ratings['rating'] <= 5.0)]"
   ]
  },
  {
   "cell_type": "code",
   "execution_count": 12,
   "id": "849ff292-0484-49d2-bf76-a1c0044ebef4",
   "metadata": {},
   "outputs": [
    {
     "name": "stdout",
     "output_type": "stream",
     "text": [
      "\n",
      "Ratings Data after cleaning:\n",
      "   userId  movieId  rating   timestamp\n",
      "0       1        2     3.5  02-04-2005\n",
      "1       1       29     3.5  02-04-2005\n",
      "2       1       32     3.5  02-04-2005\n",
      "3       1       47     3.5  02-04-2005\n",
      "4       1       50     3.5  02-04-2005\n",
      "\n",
      "Movies Data after cleaning:\n",
      "   movieId                               title  \\\n",
      "0        1                    Toy Story (1995)   \n",
      "1        2                      Jumanji (1995)   \n",
      "2        3             Grumpier Old Men (1995)   \n",
      "3        4            Waiting to Exhale (1995)   \n",
      "4        5  Father of the Bride Part II (1995)   \n",
      "\n",
      "                                        genres  \n",
      "0  Adventure|Animation|Children|Comedy|Fantasy  \n",
      "1                   Adventure|Children|Fantasy  \n",
      "2                               Comedy|Romance  \n",
      "3                         Comedy|Drama|Romance  \n",
      "4                                       Comedy  \n"
     ]
    }
   ],
   "source": [
    "print(\"\\nRatings Data after cleaning:\")\n",
    "print(ratings.head())\n",
    "print(\"\\nMovies Data after cleaning:\")\n",
    "print(movies.head())"
   ]
  },
  {
   "cell_type": "code",
   "execution_count": 13,
   "id": "daae6865-58ad-426b-ad63-90275503f9e7",
   "metadata": {},
   "outputs": [
    {
     "name": "stdout",
     "output_type": "stream",
     "text": [
      "\n",
      "Ratings Data after cleaning:\n",
      "   userId  movieId  rating   timestamp\n",
      "0       1        2     3.5  02-04-2005\n",
      "1       1       29     3.5  02-04-2005\n",
      "2       1       32     3.5  02-04-2005\n",
      "3       1       47     3.5  02-04-2005\n",
      "4       1       50     3.5  02-04-2005\n",
      "\n",
      "Movies Data after cleaning:\n",
      "   movieId                               title  \\\n",
      "0        1                    Toy Story (1995)   \n",
      "1        2                      Jumanji (1995)   \n",
      "2        3             Grumpier Old Men (1995)   \n",
      "3        4            Waiting to Exhale (1995)   \n",
      "4        5  Father of the Bride Part II (1995)   \n",
      "\n",
      "                                        genres  \n",
      "0  Adventure|Animation|Children|Comedy|Fantasy  \n",
      "1                   Adventure|Children|Fantasy  \n",
      "2                               Comedy|Romance  \n",
      "3                         Comedy|Drama|Romance  \n",
      "4                                       Comedy  \n",
      "\n",
      "Cleaned data has been saved to 'cleaned_ratings.csv' and 'cleaned_movies.csv'.\n"
     ]
    }
   ],
   "source": [
    "print(\"\\nRatings Data after cleaning:\")\n",
    "print(ratings.head())\n",
    "print(\"\\nMovies Data after cleaning:\")\n",
    "print(movies.head())\n",
    "\n",
    "# Save the cleaned datasets to new CSV files\n",
    "ratings.to_csv('cleaned_ratings.csv', index=False)\n",
    "movies.to_csv('cleaned_movies.csv', index=False)\n",
    "\n",
    "print(\"\\nCleaned data has been saved to 'cleaned_ratings.csv' and 'cleaned_movies.csv'.\")"
   ]
  },
  {
   "cell_type": "code",
   "execution_count": 14,
   "id": "09a60082-9620-4ae9-8404-8483d0533b05",
   "metadata": {},
   "outputs": [
    {
     "name": "stdout",
     "output_type": "stream",
     "text": [
      "Requirement already satisfied: scikit-surprise in c:\\users\\nuttr\\anaconda3\\lib\\site-packages (1.1.4)\n",
      "Requirement already satisfied: joblib>=1.2.0 in c:\\users\\nuttr\\anaconda3\\lib\\site-packages (from scikit-surprise) (1.2.0)\n",
      "Requirement already satisfied: numpy>=1.19.5 in c:\\users\\nuttr\\anaconda3\\lib\\site-packages (from scikit-surprise) (1.26.4)\n",
      "Requirement already satisfied: scipy>=1.6.0 in c:\\users\\nuttr\\anaconda3\\lib\\site-packages (from scikit-surprise) (1.11.4)\n"
     ]
    }
   ],
   "source": [
    "!pip install scikit-surprise\n"
   ]
  },
  {
   "cell_type": "code",
   "execution_count": 15,
   "id": "42b9ae4a-b612-41ad-b55d-d327f5eabd72",
   "metadata": {},
   "outputs": [
    {
     "name": "stdout",
     "output_type": "stream",
     "text": [
      "Computing the msd similarity matrix...\n",
      "Done computing similarity matrix.\n",
      "RMSE: 0.8996\n"
     ]
    },
    {
     "data": {
      "text/plain": [
       "0.8996001872536644"
      ]
     },
     "execution_count": 15,
     "metadata": {},
     "output_type": "execute_result"
    }
   ],
   "source": [
    "import pandas as pd\n",
    "from surprise import Dataset, Reader, KNNBasic\n",
    "from surprise.model_selection import train_test_split\n",
    "from surprise import accuracy\n",
    "from surprise.model_selection import cross_validate\n",
    "ratings = pd.read_csv('cleaned_ratings.csv')\n",
    "movies = pd.read_csv('cleaned_movies.csv')\n",
    "reader = Reader(rating_scale=(0.5, 5.0))\n",
    "data = Dataset.load_from_df(ratings[['userId', 'movieId', 'rating']], reader)\n",
    "trainset, testset = train_test_split(data, test_size=0.25)\n",
    "algo = KNNBasic()\n",
    "algo.fit(trainset)\n",
    "predictions = algo.test(testset)\n",
    "accuracy.rmse(predictions)\n"
   ]
  },
  {
   "cell_type": "code",
   "execution_count": 16,
   "id": "1cadabb2-a499-4165-b335-bf592d1ad239",
   "metadata": {},
   "outputs": [
    {
     "name": "stdout",
     "output_type": "stream",
     "text": [
      "Computing the msd similarity matrix...\n",
      "Done computing similarity matrix.\n"
     ]
    }
   ],
   "source": [
    "import pandas as pd\n",
    "from surprise import Dataset, Reader, KNNBasic\n",
    "from surprise.model_selection import train_test_split\n",
    "from tkinter import *\n",
    "from tkinter import messagebox\n",
    "\n",
    "ratings = pd.read_csv('cleaned_ratings.csv')\n",
    "movies = pd.read_csv('cleaned_movies.csv')\n",
    "\n",
    "reader = Reader(rating_scale=(0.5, 5.0))\n",
    "data = Dataset.load_from_df(ratings[['userId', 'movieId', 'rating']], reader)\n",
    "\n",
    "trainset, testset = train_test_split(data, test_size=0.25)\n",
    "algo = KNNBasic()\n",
    "algo.fit(trainset)\n",
    "\n",
    "def get_recommendations(user_id, num_recommendations=10):\n",
    "    # Get the list of all movie ids\n",
    "    movie_ids = movies['movieId'].tolist()\n",
    "    \n",
    "    # Predict ratings for all movies not rated by the user\n",
    "    predictions = []\n",
    "    for movie_id in movie_ids:\n",
    "        if movie_id not in ratings[ratings['userId'] == user_id]['movieId'].values:\n",
    "            pred = algo.predict(user_id, movie_id)\n",
    "            predictions.append((movie_id, pred.est))\n",
    "    \n",
    "    # Sort the predictions by estimated rating\n",
    "    predictions.sort(key=lambda x: x[1], reverse=True)\n",
    "    \n",
    "    # Get the top N recommendations\n",
    "    top_recommendations = predictions[:num_recommendations]\n",
    "    \n",
    "    # Get movie titles and genres for the top recommendations\n",
    "    recommended_movies = []\n",
    "    for movie_id, rating in top_recommendations:\n",
    "        title = movies[movies['movieId'] == movie_id]['title'].values[0]\n",
    "        genres = ', '.join(movies[movies['movieId'] == movie_id]['genres'].values[0])\n",
    "        recommended_movies.append((title, genres, rating))\n",
    "    \n",
    "    return recommended_movies\n",
    "\n",
    "# Function to handle the recommend button click\n",
    "def on_recommend():\n",
    "    try:\n",
    "        user_id = int(user_id_entry.get())\n",
    "        if user_id not in ratings['userId'].unique():\n",
    "            messagebox.showerror(\"Error\", \"User ID not found in the dataset!\")\n",
    "            return\n",
    "        \n",
    "        recommendations = get_recommendations(user_id)\n",
    "        \n",
    "       \n",
    "        recommendations_text.delete(1.0, END)\n",
    "        \n",
    "        for title, genres, rating in recommendations:\n",
    "            recommendations_text.insert(END, f\"Title: {title}\\nGenres: {genres}\\nEstimated Rating: {rating:.2f}\\n\\n\")\n",
    "    \n",
    "    except ValueError:\n",
    "        messagebox.showerror(\"Error\", \"Invalid User ID!\")\n",
    "\n",
    "\n",
    "root = Tk()\n",
    "root.title(\"Movie Recommender System\")\n",
    "\n",
    "Label(root, text=\"Enter User ID:\").grid(row=0, column=0, padx=10, pady=10)\n",
    "user_id_entry = Entry(root)\n",
    "user_id_entry.grid(row=0, column=1, padx=10, pady=10)\n",
    "recommend_button = Button(root, text=\"Recommend\", command=on_recommend)\n",
    "recommend_button.grid(row=0, column=2, padx=10, pady=10)\n",
    "\n",
    "Label(root, text=\"Recommendations:\").grid(row=1, column=0, padx=10, pady=10)\n",
    "recommendations_text = Text(root, width=60, height=20)\n",
    "recommendations_text.grid(row=2, column=0, columnspan=3, padx=10, pady=10)\n",
    "\n",
    "root.mainloop()\n"
   ]
  },
  {
   "cell_type": "code",
   "execution_count": 17,
   "id": "5468d366-78e4-4a47-a0b2-95247a5fde27",
   "metadata": {},
   "outputs": [
    {
     "data": {
      "image/png": "[encoded data removed]",
      "text/plain": [
       "<Figure size 1000x600 with 1 Axes>"
      ]
     },
     "metadata": {},
     "output_type": "display_data"
    },
    {
     "data": {
      "image/png": "[encoded data removed]",
      "text/plain": [
       "<Figure size 1000x600 with 1 Axes>"
      ]
     },
     "metadata": {},
     "output_type": "display_data"
    },
    {
     "data": {
      "image/png": "[encoded data removed]",
      "text/plain": [
       "<Figure size 1000x600 with 1 Axes>"
      ]
     },
     "metadata": {},
     "output_type": "display_data"
    }
   ],
   "source": [
    "import pandas as pd\n",
    "import matplotlib.pyplot as plt\n",
    "import seaborn as sns\n",
    "\n",
    "# Load the cleaned data\n",
    "ratings = pd.read_csv('cleaned_ratings.csv')\n",
    "\n",
    "# Ensure the column names match (if necessary)\n",
    "ratings.columns = ['userid', 'movieid', 'rating', 'timestamp']  # Adjust this line if needed\n",
    "\n",
    "# Distribution of Ratings\n",
    "plt.figure(figsize=(10, 6))\n",
    "sns.countplot(x='rating', data=ratings, palette='viridis')\n",
    "plt.title('Distribution of Ratings')\n",
    "plt.xlabel('Rating')\n",
    "plt.ylabel('Count')\n",
    "plt.show()\n",
    "\n",
    "# Number of Ratings per User\n",
    "ratings_per_user = ratings.groupby('userid').size()\n",
    "plt.figure(figsize=(10, 6))\n",
    "plt.hist(ratings_per_user, bins=50, color='skyblue')\n",
    "plt.title('Number of Ratings per User')\n",
    "plt.xlabel('Number of Ratings')\n",
    "plt.ylabel('Count of Users')\n",
    "plt.show()\n",
    "\n",
    "# Number of Ratings per Movie\n",
    "ratings_per_movie = ratings.groupby('movieid').size()\n",
    "plt.figure(figsize=(10, 6))\n",
    "plt.hist(ratings_per_movie, bins=50, color='lightgreen')\n",
    "plt.title('Number of Ratings per Movie')\n",
    "plt.xlabel('Number of Ratings')\n",
    "plt.ylabel('Count of Movies')\n",
    "plt.show()\n"
   ]
  },
  {
   "cell_type": "code",
   "execution_count": null,
   "id": "ee7c13cf-a895-4bb2-871d-58507607cd21",
   "metadata": {},
   "outputs": [],
   "source": []
  }
 ],
 "metadata": {
  "kernelspec": {
   "display_name": "Python 3 (ipykernel)",
   "language": "python",
   "name": "python3"
  },
  "language_info": {
   "codemirror_mode": {
    "name": "ipython",
    "version": 3
   },
   "file_extension": ".py",
   "mimetype": "text/x-python",
   "name": "python",
   "nbconvert_exporter": "python",
   "pygments_lexer": "ipython3",
   "version": "3.11.7"
  }
 },
 "nbformat": 4,
 "nbformat_minor": 5
}
